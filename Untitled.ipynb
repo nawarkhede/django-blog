{
 "cells": [
  {
   "cell_type": "code",
   "execution_count": 3,
   "id": "07c7193a",
   "metadata": {},
   "outputs": [],
   "source": [
    "x = \"strating of this blog\""
   ]
  },
  {
   "cell_type": "code",
   "execution_count": 5,
   "id": "4aaad753",
   "metadata": {},
   "outputs": [
    {
     "data": {
      "text/plain": [
       "'strating o'"
      ]
     },
     "execution_count": 5,
     "metadata": {},
     "output_type": "execute_result"
    }
   ],
   "source": [
    "x[:10]"
   ]
  },
  {
   "cell_type": "code",
   "execution_count": null,
   "id": "668d1894",
   "metadata": {},
   "outputs": [],
   "source": []
  }
 ],
 "metadata": {
  "kernelspec": {
   "display_name": "Python 3 (ipykernel)",
   "language": "python",
   "name": "python3"
  },
  "language_info": {
   "codemirror_mode": {
    "name": "ipython",
    "version": 3
   },
   "file_extension": ".py",
   "mimetype": "text/x-python",
   "name": "python",
   "nbconvert_exporter": "python",
   "pygments_lexer": "ipython3",
   "version": "3.11.3"
  }
 },
 "nbformat": 4,
 "nbformat_minor": 5
}
